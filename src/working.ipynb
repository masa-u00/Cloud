{
 "cells": [
  {
   "cell_type": "code",
   "execution_count": 21,
   "id": "e2e86b01",
   "metadata": {},
   "outputs": [],
   "source": [
    "import sys\n",
    "import numpy as np\n",
    "from collections import Counter"
   ]
  },
  {
   "cell_type": "code",
   "execution_count": 83,
   "id": "7c12d311",
   "metadata": {},
   "outputs": [],
   "source": [
    "import numpy as np\n",
    "import argparse\n",
    "parser = argparse.ArgumentParser(description=\"NML single experiment\")\n",
    "parser.add_argument(\"--N\", type=int, default=10000, help=\"number of samples\")\n",
    "parser.add_argument(\"--m0\", type=int, default=5, help=\"number of distinct values of the multinomial r.v X\")\n",
    "parser.add_argument(\"--m1\", type=int, default=6, help=\"number of distinct values of the multinomial r.v Y\")\n",
    "args = parser.parse_args([])\n",
    "\n",
    "\n",
    "x0 = np.random.randint(args.m0, size=args.N)\n",
    "x1 = (x0 + np.random.randint(args.m1, size=args.N)) % args.m1"
   ]
  },
  {
   "cell_type": "code",
   "execution_count": 84,
   "id": "dfd76f16",
   "metadata": {},
   "outputs": [],
   "source": [
    "from __future__ import division\n",
    "from math import ceil, log, sqrt\n",
    "from scipy.stats import binom\n",
    "\n",
    "def log2(n):\n",
    "    return log(n or 1, 2)\n",
    "\n",
    "def C_MN(n: int, K: int):\n",
    "    \"\"\"Computes the normalizing term of NML distribution recursively. O(n+K)\n",
    "    \n",
    "    For more detail, please refer to eq (19) (Theorem1) in \n",
    "    \"NML Computation Algorithms for Tree-Structured Multinomial Bayesian Networks\"\n",
    "    https://pubmed.ncbi.nlm.nih.gov/18382603/\n",
    "    \n",
    "    and algorithm 2 in\n",
    "    \"Computing the Multinomial Stochastic Complexity in Sub-Linear Time\"\n",
    "    http://pgm08.cs.aau.dk/Papers/31_Paper.pdf\n",
    "    \n",
    "    \n",
    "    Args\n",
    "    ----------\n",
    "        n (int): sample size of a dataset\n",
    "        K (int): K-value multinomal distribution\n",
    "        \n",
    "    Returns\n",
    "    ----------\n",
    "        float: (Approximated) Multinomal Normalizing Sum \n",
    "    \n",
    "    \"\"\"\n",
    "    \n",
    "    total = 1\n",
    "    b = 1\n",
    "    d = 16 # 16 digit precision\n",
    "\n",
    "    bound = int(ceil(2 + sqrt( -2 * n * np.log(2 * 10**(-d) - 100 ** (-d)))))\n",
    "\n",
    "    for k in range(1, bound + 1):\n",
    "        b = (n - k + 1) / n * b\n",
    "        total += b\n",
    "\n",
    "    old_sum = 1\n",
    "\n",
    "    for j in range(3, K + 1):\n",
    "        new_sum = total + (n * old_sum) / (j - 2)\n",
    "        old_sum = total\n",
    "        total = new_sum\n",
    "\n",
    "    return total\n",
    "    \n",
    "\n",
    "def parametric_complexity(X, Y, model_type: str, X_ndistinct_vals=None, Y_ndistinct_vals=None):\n",
    "    \"\"\"Computes the Parametric Complexity of Multinomals. \n",
    "    \n",
    "    Args\n",
    "    ----------\n",
    "        model_type (str): [\"to\", \"gets\", \"indep\", \"confounder\"]\n",
    "        X (sequence): sequence of discrete outcomes\n",
    "        Y (sequence): sequence of discrete outcomes\n",
    "        X_ndistinct_vals (int): number of distinct values of the multinomial r.v X.\n",
    "        Y_ndistinct_vals (int): number of distinct values of the multinomial r.v Y.\n",
    "         \n",
    "    Returns\n",
    "    ----------\n",
    "        float: Parametric Complexity of Multinomals \n",
    "        \n",
    "    \"\"\"\n",
    "    \n",
    "    assert len(X)==len(Y)\n",
    "    n = len(X)\n",
    "    X_ndistinct_vals = X_ndistinct_vals or len(np.unique(X))\n",
    "    Y_ndistinct_vals = Y_ndistinct_vals or len(np.unique(Y))\n",
    "    \n",
    "    \n",
    "    if model_type == \"confounder\":\n",
    "        return  log2(C_MN(n=n, K=X_ndistinct_vals * Y_ndistinct_vals))\n",
    "    \n",
    "    else:\n",
    "        return  log2(C_MN(n=n, K=X_ndistinct_vals)) + log2(C_MN(n=n, K=Y_ndistinct_vals))"
   ]
  },
  {
   "cell_type": "code",
   "execution_count": 85,
   "id": "8519a5b1",
   "metadata": {
    "scrolled": true
   },
   "outputs": [
    {
     "name": "stdout",
     "output_type": "stream",
     "text": [
      "CPU times: user 442 µs, sys: 3 µs, total: 445 µs\n",
      "Wall time: 454 µs\n"
     ]
    },
    {
     "data": {
      "text/plain": [
       "8.985119564280846e+29"
      ]
     },
     "execution_count": 85,
     "metadata": {},
     "output_type": "execute_result"
    }
   ],
   "source": [
    "%%time\n",
    "C_MN(n=10000, K=20)"
   ]
  },
  {
   "cell_type": "code",
   "execution_count": 86,
   "id": "83f29f1b",
   "metadata": {},
   "outputs": [
    {
     "name": "stdout",
     "output_type": "stream",
     "text": [
      "CPU times: user 12.9 ms, sys: 6 µs, total: 12.9 ms\n",
      "Wall time: 12.5 ms\n"
     ]
    },
    {
     "data": {
      "text/plain": [
       "2.1526114216272685e+58"
      ]
     },
     "execution_count": 86,
     "metadata": {},
     "output_type": "execute_result"
    }
   ],
   "source": [
    "%%time\n",
    "C_MN(n=10000000, K=20)"
   ]
  },
  {
   "cell_type": "code",
   "execution_count": 87,
   "id": "03a75a8c",
   "metadata": {},
   "outputs": [
    {
     "data": {
      "text/plain": [
       "55.64200710898581"
      ]
     },
     "execution_count": 87,
     "metadata": {},
     "output_type": "execute_result"
    }
   ],
   "source": [
    "parametric_complexity(x0, x1, model_type=\"to\")"
   ]
  },
  {
   "cell_type": "code",
   "execution_count": 88,
   "id": "0aeaab81",
   "metadata": {},
   "outputs": [
    {
     "data": {
      "text/plain": [
       "143.42425858956648"
      ]
     },
     "execution_count": 88,
     "metadata": {},
     "output_type": "execute_result"
    }
   ],
   "source": [
    "parametric_complexity(x0, x1, model_type=\"confounder\")"
   ]
  },
  {
   "cell_type": "code",
   "execution_count": 89,
   "id": "904eb8df",
   "metadata": {},
   "outputs": [
    {
     "name": "stdout",
     "output_type": "stream",
     "text": [
      "CPU times: user 3.99 ms, sys: 2 ms, total: 5.99 ms\n",
      "Wall time: 3.6 ms\n"
     ]
    },
    {
     "data": {
      "text/plain": [
       "55.64200710898581"
      ]
     },
     "execution_count": 89,
     "metadata": {},
     "output_type": "execute_result"
    }
   ],
   "source": [
    "%%time\n",
    "parametric_complexity(x0, x1, model_type=\"to\")"
   ]
  },
  {
   "cell_type": "code",
   "execution_count": 90,
   "id": "a429ed89",
   "metadata": {},
   "outputs": [
    {
     "data": {
      "text/plain": [
       "55.64200710898581"
      ]
     },
     "execution_count": 90,
     "metadata": {},
     "output_type": "execute_result"
    }
   ],
   "source": [
    "parametric_complexity(x0, x1, model_type=\"gets\")"
   ]
  },
  {
   "cell_type": "code",
   "execution_count": 91,
   "id": "dc552fb7",
   "metadata": {
    "scrolled": true
   },
   "outputs": [
    {
     "name": "stdout",
     "output_type": "stream",
     "text": [
      "CPU times: user 4.09 ms, sys: 1.01 ms, total: 5.1 ms\n",
      "Wall time: 3.38 ms\n"
     ]
    },
    {
     "data": {
      "text/plain": [
       "143.42425858956648"
      ]
     },
     "execution_count": 91,
     "metadata": {},
     "output_type": "execute_result"
    }
   ],
   "source": [
    "%%time\n",
    "parametric_complexity(x0, x1, model_type=\"confounder\")"
   ]
  },
  {
   "cell_type": "code",
   "execution_count": null,
   "id": "95b19da3",
   "metadata": {},
   "outputs": [],
   "source": []
  },
  {
   "cell_type": "code",
   "execution_count": null,
   "id": "cd0fcb0c",
   "metadata": {},
   "outputs": [],
   "source": []
  },
  {
   "cell_type": "code",
   "execution_count": null,
   "id": "b91ee522",
   "metadata": {},
   "outputs": [],
   "source": []
  },
  {
   "cell_type": "code",
   "execution_count": 92,
   "id": "e6158c57",
   "metadata": {},
   "outputs": [],
   "source": [
    "X=np.random.randint(5, size=100000)\n",
    "Y=np.random.randint(4, size=100000)"
   ]
  },
  {
   "cell_type": "code",
   "execution_count": 93,
   "id": "454f56d2",
   "metadata": {},
   "outputs": [],
   "source": [
    "f = map_to_majority(X, Y)"
   ]
  },
  {
   "cell_type": "code",
   "execution_count": 106,
   "id": "d1d58a51",
   "metadata": {
    "scrolled": true
   },
   "outputs": [
    {
     "data": {
      "text/plain": [
       "{3: 0, 2: 2, 4: 2, 0: 3, 1: 1}"
      ]
     },
     "execution_count": 106,
     "metadata": {},
     "output_type": "execute_result"
    }
   ],
   "source": [
    "f"
   ]
  },
  {
   "cell_type": "code",
   "execution_count": 105,
   "id": "0f80609f",
   "metadata": {},
   "outputs": [],
   "source": [
    "f[3]= 0"
   ]
  },
  {
   "cell_type": "code",
   "execution_count": 208,
   "id": "38904b22",
   "metadata": {},
   "outputs": [
    {
     "data": {
      "text/plain": [
       "1.7976931348623157e+308"
      ]
     },
     "execution_count": 208,
     "metadata": {},
     "output_type": "execute_result"
    }
   ],
   "source": [
    "sys.float_info.max"
   ]
  },
  {
   "cell_type": "code",
   "execution_count": 212,
   "id": "738bca55",
   "metadata": {},
   "outputs": [],
   "source": [
    "# 全探索するバージョン　主にデバック用\n",
    "def update_regression(X, Y, f=None):\n",
    "    supp_X = sorted(list(set(X)))\n",
    "    suppY = sorted(list(set(Y)))\n",
    "    best_ml = sys.float_info.max\n",
    "    ans = None\n",
    "    for ys in itertools.product(suppY, repeat=len(supp_X)):\n",
    "        f = dict()\n",
    "        for i, x in enumerate(supp_X):\n",
    "            f[x] = ys[i]\n",
    "        print(f)\n",
    "\n",
    "        temp_ml = cause_effect_negloglikelihood(X, Y, f)\n",
    "\n",
    "        if temp_ml < best_ml:\n",
    "            ans = f\n",
    "            best_ml = temp_ml\n",
    "    return ans"
   ]
  },
  {
   "cell_type": "code",
   "execution_count": 210,
   "id": "6beff652",
   "metadata": {},
   "outputs": [
    {
     "data": {
      "text/plain": [
       "432174.036394854"
      ]
     },
     "execution_count": 210,
     "metadata": {},
     "output_type": "execute_result"
    }
   ],
   "source": [
    "ans \n",
    "best_ml"
   ]
  },
  {
   "cell_type": "code",
   "execution_count": 215,
   "id": "2438e52e",
   "metadata": {},
   "outputs": [],
   "source": [
    "#!/usr/bin/env python3\n",
    "# -*- coding: utf-8 -*-\n",
    "# ref: https://github.molgen.mpg.de/EDA/cisc/blob/master/formatter.py\n",
    "\"\"\"This module provides common methods for manipulating data\"\"\"\n",
    "from collections import defaultdict\n",
    "\n",
    "\n",
    "def stratify(X, Y):\n",
    "    \"\"\"Stratifies Y based on unique values of X.\n",
    "    Args:\n",
    "        X (sequence): sequence of discrete outcomes\n",
    "        Y (sequence): sequence of discrete outcomes\n",
    "    Returns:\n",
    "        (dict): list of Y-values for a X-value\n",
    "    \"\"\"\n",
    "    Y_grps = defaultdict(list)\n",
    "    for i, x in enumerate(X):\n",
    "        Y_grps[x].append(Y[i])\n",
    "    return Y_grps"
   ]
  },
  {
   "cell_type": "code",
   "execution_count": 216,
   "id": "b118b19b",
   "metadata": {},
   "outputs": [],
   "source": [
    "def map_to_majority(X, Y):\n",
    "    \"\"\"Creates a function that maps x to most frequent y.\n",
    "    Args:\n",
    "        X (sequence): sequence of discrete outcomes\n",
    "        Y (sequence): sequence of discrete outcomes\n",
    "    Returns:\n",
    "        (dict): map from Y-values to frequently co-occuring X-values\n",
    "    \"\"\"\n",
    "    f = dict()\n",
    "    Y_grps = stratify(X, Y)\n",
    "    for x, Ys in Y_grps.items():\n",
    "        frequent_y, _ = Counter(Ys).most_common(1)[0]\n",
    "        f[x] = frequent_y\n",
    "    return f"
   ]
  },
  {
   "cell_type": "code",
   "execution_count": 217,
   "id": "547d7bb3",
   "metadata": {},
   "outputs": [],
   "source": [
    "def update_regression(C, E, f, max_niterations=10000):\n",
    "    \"\"\"Update discrete regression with C as a cause variable and Y as a effect variable\n",
    "    so that it maximize likelihood\n",
    "    Args\n",
    "    -------\n",
    "        C (sequence): sequence of discrete outcomes\n",
    "        E (sequence): sequence of discrete outcomes\n",
    "        f (dict): map from C to Y\n",
    "        \n",
    "    \"\"\"\n",
    "    cur_likelihood =  cause_effect_negloglikelihood(C, E, f)\n",
    "    supp_C = list(set(C))\n",
    "    supp_E = list(set(E))\n",
    "    \n",
    "    j = 0\n",
    "    minimized = True\n",
    "    while j < max_niterations and minimized:\n",
    "        minimized = False\n",
    "        \n",
    "        for c_to_map in supp_C:\n",
    "            best_likelihood = sys.float_info.max\n",
    "            best_e = None\n",
    "            \n",
    "            for cand_e in supp_E:\n",
    "#                 if cand_e == f[c_to_map]:\n",
    "#                     continue\n",
    "                \n",
    "                f_ = dict()\n",
    "                for c_value, e_value in f.items():\n",
    "                    if c_value == c_to_map:\n",
    "                        f_[c_value] = cand_e\n",
    "                    else:\n",
    "                        f_[c_value] = e_value\n",
    "                        \n",
    "                neglikelihood = cause_effect_negloglikelihood(C, E, f_)\n",
    "                \n",
    "                if neglikelihood < best_likelihood:\n",
    "                    best_likelihood = neglikelihood\n",
    "                    best_e = cand_e\n",
    "\n",
    "            if best_likelihood < cur_likelihood:\n",
    "                #print(best_likelihood, cur_likelihood, f)\n",
    "                cur_likelihood = best_likelihood\n",
    "                f[c_to_map] = best_e\n",
    "                minimized = True\n",
    "        j += 1\n",
    "    \n",
    "    return f\n",
    "        "
   ]
  },
  {
   "cell_type": "code",
   "execution_count": 218,
   "id": "14494250",
   "metadata": {},
   "outputs": [],
   "source": [
    "def cause_effect_negloglikelihood(C, E, func):\n",
    "    \"\"\"Compute negative log likelihood for cause & effect pair.\n",
    "    Model type : C→E\n",
    "    \n",
    "    Args\n",
    "    -------\n",
    "        C (sequence): sequence of discrete outcomes (Cause)\n",
    "        E (sequence): sequence of discrete outcomes (Effect)\n",
    "        func (dict): map from C-value to E-value\n",
    "    \n",
    "    Returns\n",
    "    -------\n",
    "        (float): maximum log likelihood \n",
    "    \"\"\"\n",
    "    supp_C = list(set(C))\n",
    "    supp_E = list(set(E))\n",
    "    mod_C = len(set(C))\n",
    "    mod_E = len(set(E))\n",
    "    C_freqs = Counter(C)\n",
    "    E_freqs = Counter(E)\n",
    "    n = len(C)\n",
    "    \n",
    "    pair_cnt = defaultdict(lambda: defaultdict(int))\n",
    "    for c, e in zip(C, E):\n",
    "        pair_cnt[c][e] += 1\n",
    "        \n",
    "    loglikelihood = 0\n",
    "    \n",
    "    for freq in C_freqs.values():\n",
    "        loglikelihood += freq * (log2(n) - log2(freq))            \n",
    "\n",
    "    for e_E in supp_E:\n",
    "        freq = 0\n",
    "        for e in supp_E:\n",
    "            for c in supp_C:\n",
    "                if (e - func[c]) % mod_E == e_E:\n",
    "                    freq += pair_cnt[c][e]\n",
    "        loglikelihood += freq * (log2(n) - log2(freq))\n",
    "        \n",
    "    return loglikelihood\n",
    "\n",
    "def neg_log_likelihood(X, Y, model_type):\n",
    "    \"\"\"Compute negative maximum log-likelihood of the model given observations z^n.\n",
    "    \n",
    "    Args\n",
    "    ------\n",
    "        X (sequence): sequence of discrete outcomes\n",
    "        Y (sequence): sequence of discrete outcomes\n",
    "        model_type (str): one of [\"to\", \"gets\", \"indep\", \"confounder\"]\n",
    "        f (dict): map from Y-values to frequently co-occuring X-values\n",
    "    Returns\n",
    "    -----------\n",
    "        (float): (negative) maximum log likelihood \n",
    "    \"\"\"\n",
    "\n",
    "    n = len(X)\n",
    "    loglikelihood = 0\n",
    "            \n",
    "    if model_type == \"to\":\n",
    "        f = map_to_majority(X, Y)\n",
    "        f = update_regression(X, Y, f)\n",
    "        loglikelihood += cause_effect_negloglikelihood(X, Y, f)\n",
    "                \n",
    "    elif model_type == \"gets\":\n",
    "        g = map_to_majority(Y, X)\n",
    "        g = update_regression(Y, X, g)\n",
    "        loglikelihood += cause_effect_negloglikelihood(Y, X, g)\n",
    "\n",
    "    elif model_type == \"indep\":\n",
    "        X_freqs = Counter(X)\n",
    "        Y_freqs = Counter(Y)\n",
    "        for freq in X_freqs.values():\n",
    "            loglikelihood += freq * (log2(n) - log2(freq))  \n",
    "        for freq in Y_freqs.values():\n",
    "            loglikelihood += freq * (log2(n) - log2(freq)) \n",
    "    \n",
    "    elif model_type == \"confounder\":\n",
    "        pair_cnt = defaultdict(lambda: defaultdict(int))\n",
    "        for x, y in zip(X, Y):\n",
    "            pair_cnt[x][y] += 1\n",
    "\n",
    "        for x in list(set(X)):\n",
    "            for y in list(setY):\n",
    "                loglikelihood += pair_cnt[x][y] * (log2(n) - log2(pair_cnt[x][y]))\n",
    "    \n",
    "    return loglikelihood\n",
    "        "
   ]
  },
  {
   "cell_type": "code",
   "execution_count": 219,
   "id": "6488c421",
   "metadata": {},
   "outputs": [
    {
     "data": {
      "text/plain": [
       "49060.172312384035"
      ]
     },
     "execution_count": 219,
     "metadata": {},
     "output_type": "execute_result"
    }
   ],
   "source": [
    "neg_log_likelihood(x0, x1, model_type=\"to\")"
   ]
  },
  {
   "cell_type": "code",
   "execution_count": 220,
   "id": "554b8f0c",
   "metadata": {
    "scrolled": true
   },
   "outputs": [
    {
     "data": {
      "text/plain": [
       "49057.390946689746"
      ]
     },
     "execution_count": 220,
     "metadata": {},
     "output_type": "execute_result"
    }
   ],
   "source": [
    "neg_log_likelihood(x0, x1, model_type=\"gets\")"
   ]
  },
  {
   "cell_type": "code",
   "execution_count": 190,
   "id": "086a5705",
   "metadata": {},
   "outputs": [
    {
     "data": {
      "text/plain": [
       "49063.66126947885"
      ]
     },
     "execution_count": 190,
     "metadata": {},
     "output_type": "execute_result"
    }
   ],
   "source": [
    "neg_log_likelihood(x0, x1, model_type=\"indep\")"
   ]
  },
  {
   "cell_type": "code",
   "execution_count": 191,
   "id": "5be2e2f4",
   "metadata": {},
   "outputs": [
    {
     "data": {
      "text/plain": [
       "49053.186994119234"
      ]
     },
     "execution_count": 191,
     "metadata": {},
     "output_type": "execute_result"
    }
   ],
   "source": [
    "neg_log_likelihood(x0, x1, model_type=\"confounder\")"
   ]
  },
  {
   "cell_type": "code",
   "execution_count": 158,
   "id": "5cce1a6c",
   "metadata": {
    "scrolled": true
   },
   "outputs": [
    {
     "data": {
      "text/plain": [
       "432185.64731907286"
      ]
     },
     "execution_count": 158,
     "metadata": {},
     "output_type": "execute_result"
    }
   ],
   "source": [
    "neg_log_likelihood(X=np.random.randint(5, size=100000),\n",
    "                          Y=np.random.randint(4, size=100000), model_type=\"to\")"
   ]
  },
  {
   "cell_type": "code",
   "execution_count": 159,
   "id": "2090f910",
   "metadata": {},
   "outputs": [
    {
     "data": {
      "text/plain": [
       "432183.674321685"
      ]
     },
     "execution_count": 159,
     "metadata": {},
     "output_type": "execute_result"
    }
   ],
   "source": [
    "neg_log_likelihood(X=np.random.randint(5, size=100000),\n",
    "                          Y=np.random.randint(4, size=100000), model_type=\"gets\")"
   ]
  },
  {
   "cell_type": "code",
   "execution_count": 160,
   "id": "5fb0e367",
   "metadata": {},
   "outputs": [
    {
     "data": {
      "text/plain": [
       "432191.1058337093"
      ]
     },
     "execution_count": 160,
     "metadata": {},
     "output_type": "execute_result"
    }
   ],
   "source": [
    "neg_log_likelihood(X=np.random.randint(5, size=100000),\n",
    "                          Y=np.random.randint(4, size=100000), model_type=\"indep\")"
   ]
  },
  {
   "cell_type": "code",
   "execution_count": 161,
   "id": "b5c4569f",
   "metadata": {},
   "outputs": [
    {
     "data": {
      "text/plain": [
       "432174.0353961935"
      ]
     },
     "execution_count": 161,
     "metadata": {},
     "output_type": "execute_result"
    }
   ],
   "source": [
    "neg_log_likelihood(X=np.random.randint(5, size=100000),\n",
    "                          Y=np.random.randint(4, size=100000), model_type=\"confounder\")"
   ]
  },
  {
   "cell_type": "code",
   "execution_count": 223,
   "id": "fc4ff137",
   "metadata": {},
   "outputs": [],
   "source": [
    "def sc(X, Y, model_type: str, X_ndistinct_vals=None, Y_ndistinct_vals=None):\n",
    "    \"\"\"Computes the stochastic complexity of z^n(two discrete sequences).\n",
    "    \n",
    "    Args\n",
    "    ------        \n",
    "        X (sequence): sequence of discrete outcomes\n",
    "        Y (sequence): sequence of discrete outcomes\n",
    "        model_type (str): [\"to\", \"gets\", \"indep\", \"confounder\"]\n",
    "        X_ndistinct_vals (int): number of distinct values of the multinomial r.v X.\n",
    "        Y_ndistinct_vals (int): number of distinct values of the multinomial r.v Y.\n",
    "         \n",
    "    Returns\n",
    "    ----------\n",
    "        float: Stochastic Complexity of a given dataset\n",
    "    \"\"\"\n",
    "    assert len(X)==len(Y)\n",
    "    X_ndistinct_vals = X_ndistinct_vals or len(set(X))\n",
    "    Y_ndistinct_vals = Y_ndistinct_vals or len(set(Y))\n",
    "    \n",
    "    negloglikelihood =  neg_log_likelihood(X, Y, model_type)\n",
    "    param_comp = parametric_complexity(X, Y, model_type, X_ndistinct_vals, Y_ndistinct_vals)\n",
    "    \n",
    "    stochastic_complexity = negloglikelihood + param_comp\n",
    "    \n",
    "    # add function code length\n",
    "    if model_type == \"to\":\n",
    "        stochastic_complexity += X_ndistinct_vals * log2(Y_ndistinct_vals)\n",
    "    elif model_type == \"gets\":\n",
    "        stochastic_complexity += Y_ndistinct_vals * log2(X_ndistinct_vals)\n",
    "    \n",
    "    return stochastic_complexity"
   ]
  },
  {
   "cell_type": "code",
   "execution_count": 224,
   "id": "a3a1bef2",
   "metadata": {},
   "outputs": [],
   "source": [
    "MODEL_CANDIDATES = [\"to\", \"gets\", \"indep\", \"confounder\"]\n",
    "\n",
    "def ndm(X, Y, ):\n",
    "    \"\"\"NML Discrete Model\n",
    "    \"\"\"\n",
    "    \n",
    "    results = []\n",
    "    \n",
    "    for model_type in MODEL_CANDIDATES:\n",
    "        stochastic_complexity = sc(X, Y, model_type)\n",
    "        results.append((stochastic_complexity, model_type))\n",
    "    \n",
    "    return results\n",
    "    "
   ]
  },
  {
   "cell_type": "code",
   "execution_count": 225,
   "id": "0c5e05e3",
   "metadata": {
    "scrolled": false
   },
   "outputs": [
    {
     "data": {
      "text/plain": [
       "[(49115.81431949302, 'to'),\n",
       " (49113.032953798735, 'gets'),\n",
       " (49119.30327658784, 'indep'),\n",
       " (49196.611252708804, 'confounder')]"
      ]
     },
     "execution_count": 225,
     "metadata": {},
     "output_type": "execute_result"
    }
   ],
   "source": [
    "ndm(x0, x1)"
   ]
  },
  {
   "cell_type": "code",
   "execution_count": 64,
   "id": "dcf08bee",
   "metadata": {},
   "outputs": [],
   "source": [
    "results = ndm(x0, x1)"
   ]
  },
  {
   "cell_type": "code",
   "execution_count": 65,
   "id": "fd32d192",
   "metadata": {},
   "outputs": [
    {
     "data": {
      "text/plain": [
       "[(49117.16378975504, 'to'),\n",
       " (49125.187882422644, 'gets'),\n",
       " (49119.35536012633, 'indep'),\n",
       " (49183.17050282375, 'confounder')]"
      ]
     },
     "execution_count": 65,
     "metadata": {},
     "output_type": "execute_result"
    }
   ],
   "source": [
    "results"
   ]
  },
  {
   "cell_type": "code",
   "execution_count": 66,
   "id": "78d6238c",
   "metadata": {},
   "outputs": [],
   "source": [
    "results.sort(key=lambda x: x[0])"
   ]
  },
  {
   "cell_type": "code",
   "execution_count": 67,
   "id": "95bd3538",
   "metadata": {},
   "outputs": [
    {
     "data": {
      "text/plain": [
       "[(49117.16378975504, 'to'),\n",
       " (49119.35536012633, 'indep'),\n",
       " (49125.187882422644, 'gets'),\n",
       " (49183.17050282375, 'confounder')]"
      ]
     },
     "execution_count": 67,
     "metadata": {},
     "output_type": "execute_result"
    }
   ],
   "source": [
    "results"
   ]
  },
  {
   "cell_type": "code",
   "execution_count": 53,
   "id": "b2ca61dc",
   "metadata": {},
   "outputs": [],
   "source": [
    "c = np.random.randint(args.m0, size=args.N)\n",
    "x0 = (c + np.random.randint(args.m0, size=args.N)) % args.m0\n",
    "x1 = (c + np.random.randint(args.m1, size=args.N)) % args.m1"
   ]
  },
  {
   "cell_type": "code",
   "execution_count": 149,
   "id": "56b8f450",
   "metadata": {},
   "outputs": [],
   "source": [
    "x0 = np.random.randint(args.m0, size=args.N)\n",
    "x1 = np.random.randint(args.m1, size=args.N)"
   ]
  },
  {
   "cell_type": "code",
   "execution_count": 209,
   "id": "3ff4c7ab",
   "metadata": {},
   "outputs": [],
   "source": [
    "x0 = np.random.randint(args.m0, size=args.N)\n",
    "x1 = (x0 + np.random.randint(args.m1, size=args.N)) % args.m1"
   ]
  },
  {
   "cell_type": "code",
   "execution_count": 61,
   "id": "9ebf0edd",
   "metadata": {},
   "outputs": [],
   "source": [
    "args.N=1000"
   ]
  },
  {
   "cell_type": "code",
   "execution_count": 165,
   "id": "d2861f12",
   "metadata": {
    "scrolled": true
   },
   "outputs": [
    {
     "data": {
      "application/vnd.jupyter.widget-view+json": {
       "model_id": "f55295d53fa648b69ca57eec61c08db5",
       "version_major": 2,
       "version_minor": 0
      },
      "text/plain": [
       "  0%|          | 0/10 [00:00<?, ?it/s]"
      ]
     },
     "metadata": {},
     "output_type": "display_data"
    },
    {
     "name": "stdout",
     "output_type": "stream",
     "text": [
      "[(49115.78619862696, 'indep'), (49119.945181586125, 'to'), (49120.529461959355, 'gets'), (49183.94414821583, 'confounder')]\n",
      "[(49115.089035500714, 'to'), (49115.471982056944, 'indep'), (49119.90202528516, 'gets'), (49183.00954554714, 'confounder')]\n",
      "[(49116.68352184167, 'indep'), (49124.95796595048, 'to'), (49128.64011178271, 'gets'), (49195.515073452414, 'confounder')]\n",
      "[(49119.23193351236, 'indep'), (49127.25551063263, 'to'), (49128.284969073655, 'gets'), (49197.60362497523, 'confounder')]\n",
      "[(49120.24583773402, 'gets'), (49120.29925049768, 'indep'), (49121.01703279927, 'to'), (49184.85211677031, 'confounder')]\n",
      "[(49123.44834688958, 'indep'), (49126.86807075386, 'gets'), (49127.07057326301, 'to'), (49194.93571532733, 'confounder')]\n",
      "[(49115.91515990417, 'indep'), (49120.31611869461, 'to'), (49124.94196854635, 'gets'), (49191.67847162867, 'confounder')]\n",
      "[(49117.67280524488, 'indep'), (49122.55295891437, 'to'), (49125.451311221215, 'gets'), (49191.232753503784, 'confounder')]\n",
      "[(49118.53354468475, 'indep'), (49126.13366549612, 'gets'), (49128.120916492066, 'to'), (49193.49443661424, 'confounder')]\n",
      "[(49119.30327658784, 'indep'), (49126.964522368056, 'gets'), (49128.73913199663, 'to'), (49196.611252708804, 'confounder')]\n",
      "0.9\n"
     ]
    }
   ],
   "source": [
    "from tqdm.notebook import tqdm\n",
    "N = 10\n",
    "ans = 0\n",
    "for _ in tqdm(range(N)):\n",
    "    x0 = np.random.randint(args.m0, size=args.N)\n",
    "    x1 = (x0 + np.random.randint(args.m1, size=args.N)) % args.m1\n",
    "    \n",
    "    results = ndm(x0, x1)\n",
    "    results.sort(key=lambda x: x[0])\n",
    "    print(results)\n",
    "    if results[0][1]==\"to\" or results[0][1]==\"indep\":\n",
    "        ans += 1\n",
    "print(ans/N)\n",
    "    \n",
    "    "
   ]
  },
  {
   "cell_type": "code",
   "execution_count": 50,
   "id": "dd24dadb",
   "metadata": {},
   "outputs": [
    {
     "data": {
      "text/plain": [
       "10000"
      ]
     },
     "execution_count": 50,
     "metadata": {},
     "output_type": "execute_result"
    }
   ],
   "source": [
    "args.N"
   ]
  },
  {
   "cell_type": "code",
   "execution_count": 61,
   "id": "6d536b40",
   "metadata": {},
   "outputs": [
    {
     "data": {
      "application/vnd.jupyter.widget-view+json": {
       "model_id": "9b83f41c007d40f6b72238ea235bfc3d",
       "version_major": 2,
       "version_minor": 0
      },
      "text/plain": [
       "  0%|          | 0/10 [00:00<?, ?it/s]"
      ]
     },
     "metadata": {},
     "output_type": "display_data"
    },
    {
     "name": "stdout",
     "output_type": "stream",
     "text": [
      "[(49122.13674379872, 'indep'), (49131.50511157087, 'to'), (49132.783806909996, 'gets'), (49200.69620523089, 'confounder')]\n",
      "[(49120.11738581671, 'indep'), (49124.02923254763, 'to'), (49128.75407603558, 'gets'), (49187.607217876175, 'confounder')]\n",
      "[(49120.8144659516, 'indep'), (49125.603028836296, 'to'), (49130.35314656131, 'gets'), (49193.850702007134, 'confounder')]\n",
      "[(49121.76574651071, 'indep'), (49129.77783313896, 'to'), (49130.294178524564, 'gets'), (49194.99894835574, 'confounder')]\n",
      "[(49118.92240430878, 'indep'), (49124.3913448307, 'to'), (49126.86498487197, 'gets'), (49183.45234864786, 'confounder')]\n",
      "[(49112.75703222564, 'indep'), (49118.43681293126, 'gets'), (49120.665148048414, 'to'), (49182.3503248927, 'confounder')]\n",
      "[(49119.44164044491, 'indep'), (49123.820828253265, 'to'), (49124.2101248229, 'gets'), (49193.42478849901, 'confounder')]\n",
      "[(49122.30466170439, 'indep'), (49128.09815090055, 'to'), (49128.260309712015, 'gets'), (49196.594002018384, 'confounder')]\n",
      "[(49121.55901332457, 'indep'), (49126.71411768713, 'to'), (49128.571675250234, 'gets'), (49197.51207538116, 'confounder')]\n",
      "[(49121.24377916517, 'indep'), (49125.49443674709, 'to'), (49127.693459812646, 'gets'), (49192.77875192777, 'confounder')]\n",
      "1.0\n"
     ]
    }
   ],
   "source": [
    "from tqdm.notebook import tqdm\n",
    "N = 10\n",
    "ans = 0\n",
    "for _ in tqdm(range(N)):\n",
    "    c = np.random.randint(args.m0 + 1, size=args.N)\n",
    "    x0 = (c + np.random.randint(args.m0, size=args.N)) % args.m0\n",
    "    x1 = (c + np.random.randint(args.m1, size=args.N)) % args.m1\n",
    "    \n",
    "    results = ndm(x0, x1)\n",
    "    results.sort(key=lambda x: x[0])\n",
    "    print(results)\n",
    "    if results[0][1]==\"to\" or results[0][1]==\"indep\":\n",
    "        ans += 1\n",
    "print(ans/N)\n",
    "    \n",
    "    "
   ]
  },
  {
   "cell_type": "code",
   "execution_count": null,
   "id": "52235547",
   "metadata": {},
   "outputs": [],
   "source": []
  },
  {
   "cell_type": "code",
   "execution_count": null,
   "id": "2c1991fd",
   "metadata": {},
   "outputs": [],
   "source": []
  },
  {
   "cell_type": "code",
   "execution_count": null,
   "id": "6aee7c8c",
   "metadata": {},
   "outputs": [],
   "source": []
  },
  {
   "cell_type": "code",
   "execution_count": null,
   "id": "c372ab4e",
   "metadata": {},
   "outputs": [],
   "source": []
  },
  {
   "cell_type": "code",
   "execution_count": null,
   "id": "68c091df",
   "metadata": {},
   "outputs": [],
   "source": []
  },
  {
   "cell_type": "code",
   "execution_count": null,
   "id": "61fa2aa5",
   "metadata": {},
   "outputs": [],
   "source": []
  }
 ],
 "metadata": {
  "kernelspec": {
   "display_name": "Python 3 (ipykernel)",
   "language": "python",
   "name": "python3"
  },
  "language_info": {
   "codemirror_mode": {
    "name": "ipython",
    "version": 3
   },
   "file_extension": ".py",
   "mimetype": "text/x-python",
   "name": "python",
   "nbconvert_exporter": "python",
   "pygments_lexer": "ipython3",
   "version": "3.9.7"
  }
 },
 "nbformat": 4,
 "nbformat_minor": 5
}
