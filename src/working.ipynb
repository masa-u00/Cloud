{
 "cells": [
  {
   "cell_type": "code",
   "execution_count": 2,
   "id": "e2e86b01",
   "metadata": {},
   "outputs": [],
   "source": [
    "import numpy as np"
   ]
  },
  {
   "cell_type": "code",
   "execution_count": 1,
   "id": "f283a358",
   "metadata": {},
   "outputs": [],
   "source": [
    "from collections import defaultdict\n",
    "\n",
    "\n",
    "def stratify(X, Y):\n",
    "    \"\"\"Stratifies Y based on unique values of X.\n",
    "    Args:\n",
    "        X (sequence): sequence of discrete outcomes\n",
    "        Y (sequence): sequence of discrete outcomes\n",
    "    Returns:\n",
    "        (dict): list of Y-values for a X-value\n",
    "    \"\"\"\n",
    "    Y_grps = defaultdict(list)\n",
    "    for i, x in enumerate(X):\n",
    "        Y_grps[x].append(Y[i])\n",
    "    return Y_grps\n",
    "\n",
    "\n",
    "def to_nested(X):\n",
    "    \"\"\"Converts the given sequence to a nested sequence.\n",
    "    Args:\n",
    "        X (sequence): sequence of discrete outcomes\n",
    "    Returns:\n",
    "        (nested sequence): nested sequence of X\n",
    "    \"\"\"\n",
    "    return [[x] for x in X]"
   ]
  },
  {
   "cell_type": "code",
   "execution_count": 3,
   "id": "e2686dfb",
   "metadata": {},
   "outputs": [],
   "source": [
    "def cisc(X, Y, plain=False):\n",
    "    \"\"\"Computes the total stochastic complexity from X to Y and vice versa.\n",
    "    Args:\n",
    "        X (sequence): sequence of discrete outcomes\n",
    "        Y (sequence): sequence of discrete outcomes\n",
    "        plain (bool): whether to compute the plain conditional stochastic\n",
    "            complexity or not. If not provided, we compute the weighted one.\n",
    "    Returns:\n",
    "        (float, float): the total multinomial stochastic complexity of X and Y\n",
    "            in the direction from X to Y, and vice versa.\n",
    "    \"\"\"\n",
    "    assert len(X) == len(Y)\n",
    "\n",
    "    n = len(X)\n",
    "\n",
    "    scX = sc(X)\n",
    "    scY = sc(Y)\n",
    "\n",
    "    YgX = stratify(X, Y)\n",
    "    XgY = stratify(Y, X)\n",
    "\n",
    "    domX = YgX.keys()\n",
    "    domY = XgY.keys()\n",
    "\n",
    "    ndomX = len(domX)\n",
    "    ndomY = len(domY)\n",
    "\n",
    "    if plain:\n",
    "        scYgX = sum(sc(Yp, ndomY) for Yp in YgX.values())\n",
    "        scXgY = sum(sc(Xp, ndomX) for Xp in XgY.values())\n",
    "    else:\n",
    "        scYgX = sum(len(Yp) / n * sc(Yp, ndomY) for Yp in YgX.values())\n",
    "        scXgY = sum(len(Xp) / n * sc(Xp, ndomX) for Xp in XgY.values())\n",
    "\n",
    "    ciscXtoY = scX + scYgX\n",
    "    ciscYtoX = scY + scXgY\n",
    "\n",
    "    return (ciscXtoY, ciscYtoX)"
   ]
  },
  {
   "cell_type": "code",
   "execution_count": null,
   "id": "48c7604f",
   "metadata": {},
   "outputs": [],
   "source": [
    "\"\"\"This module implements the linear algorithm for computing the stochastic\n",
    "complexity of a discrete sequence relative to a parametric family of\n",
    "multinomial distributions. For more detail, please refer to\n",
    "http://pgm08.cs.aau.dk/Papers/31_Paper.pdf\n",
    "\"\"\"\n",
    "from __future__ import division\n",
    "from collections import Counter\n",
    "from math import ceil, log, sqrt\n",
    "\n",
    "\n",
    "def log2(n):\n",
    "    return log(n or 1, 2)\n",
    "\n",
    "\n",
    "def model_cost(ndistinct_vals, n):\n",
    "    \"\"\"Computes the logarithm of the normalising term of multinomial\n",
    "    stochastic complexity.\n",
    "    Args:\n",
    "        ndistinct_vals (int): number of distinct values of a multinomial r.v.\n",
    "        n (int): number of trials\n",
    "    Returns:\n",
    "        float: the model cost of the parametric family of multinomials\n",
    "    \"\"\"\n",
    "    total = 1.0\n",
    "    b = 1.0\n",
    "    d = 10\n",
    "\n",
    "    bound = int(ceil(2 + sqrt(2 * n * d * log(10))))  # using equation (38)\n",
    "    for k in range(1, bound + 1):\n",
    "        b = (n - k + 1) / n * b\n",
    "        total += b\n",
    "\n",
    "    log_old_sum = log2(1.0)\n",
    "    log_total = log2(total)\n",
    "    log_n = log2(n)\n",
    "    for j in range(3, ndistinct_vals + 1):\n",
    "        log_x = log_n + log_old_sum - log_total - log2(j - 2)\n",
    "        x = 2 ** log_x\n",
    "        # log_one_plus_x = (x + 8 * x / (2 + x) + x / (1 + x)) / 6\n",
    "        log_one_plus_x = log2(1 + x)\n",
    "        # one_plus_x = 1 + n * 2 ** log_old_sum / (2 ** log_total * (j - 2))\n",
    "        # log_one_plus_x = log2(one_plus_x)\n",
    "        log_new_sum = log_total + log_one_plus_x\n",
    "        log_old_sum = log_total\n",
    "        log_total = log_new_sum\n",
    "        # print log_total,\n",
    "\n",
    "    if ndistinct_vals == 1:\n",
    "        log_total = log2(1.0)\n",
    "\n",
    "    return log_total\n",
    "\n",
    "\n",
    "def sc(X, ndistinct_vals=None):\n",
    "    \"\"\"Computes the stochastic complexity of a discrete sequence.\n",
    "    Args:\n",
    "        X (sequence): sequence of discrete outcomes\n",
    "        ndistinct_vals (int): number of distinct values of the multinomial\n",
    "            r.v. X. If not provided, we take it directly from X.\n",
    "    Returns:\n",
    "        float: the multinomial stochastic complexity of X\n",
    "    \"\"\"\n",
    "    freqs = Counter(X)\n",
    "    n = len(X)\n",
    "    ndistinct_vals = ndistinct_vals or len(freqs)\n",
    "    data_cost = 0.0\n",
    "    for freq in freqs.values():\n",
    "        data_cost += freq * (log2(n) - log2(freq))\n",
    "    return data_cost + model_cost(ndistinct_vals, n)\n",
    "\n",
    "\n",
    "if __name__ == \"__main__\":\n",
    "    print(sc([1, 2, 3, 2, 1, 2]))"
   ]
  },
  {
   "cell_type": "code",
   "execution_count": 217,
   "id": "dfd76f16",
   "metadata": {},
   "outputs": [],
   "source": [
    "from __future__ import division\n",
    "from math import ceil, log, sqrt\n",
    "from scipy.stats import binom\n",
    "\n",
    "def log2(n):\n",
    "    return log(n or 1, 2)\n",
    "\n",
    "def C_MN(n: int, K: int):\n",
    "    \"\"\"Computes the normalizing term of P_NML recursively. O(n+K)\n",
    "    \n",
    "    For more detail, please refer to eq (19) (Theorem1) in \n",
    "    \"NML Computation Algorithms for Tree-Structured Multinomial Bayesian Networks\"\n",
    "    https://pubmed.ncbi.nlm.nih.gov/18382603/\n",
    "    \n",
    "    and algorithm 2 in\n",
    "    \"Computing the Multinomial Stochastic Complexity in Sub-Linear Time\"\n",
    "    http://pgm08.cs.aau.dk/Papers/31_Paper.pdf\n",
    "    \n",
    "    \n",
    "    Args\n",
    "    ----------\n",
    "        n (int): sample size of a dataset\n",
    "        K (int): K-value multinomal distribution\n",
    "        \n",
    "    Returns\n",
    "    ----------\n",
    "        float: (Approximated) Multinomal Normalizing Sum \n",
    "    \n",
    "    \"\"\"\n",
    "    \n",
    "    total = 1\n",
    "    b = 1\n",
    "    d = 16 # 16 digit precision\n",
    "\n",
    "    bound = int(ceil(2 + sqrt( -2 * n * np.log(2 * 10**(-d) - 100 ** (-d)))))\n",
    "\n",
    "    for k in range(1, bound + 1):\n",
    "        b = (n - k + 1) / n * b\n",
    "        total += b\n",
    "\n",
    "    old_sum = 1\n",
    "\n",
    "    for j in range(3, K + 1):\n",
    "        new_sum = total + (n * old_sum) / (j - 2)\n",
    "        old_sum = total\n",
    "        total = new_sum\n",
    "\n",
    "    return total\n",
    "    \n",
    "\n",
    "def parametric_complexity(X, Y, model_type: str, X_ndistinct_vals=None, Y_ndistinct_vals=None):\n",
    "    \"\"\"Computes the Parametric Complexity of Multinomals. \n",
    "    \n",
    "    Args\n",
    "    ----------\n",
    "        model_type (str): [\"to\", \"gets\", \"indep\", \"confounder\"]\n",
    "        X (sequence): sequence of discrete outcomes\n",
    "        Y (sequence): sequence of discrete outcomes\n",
    "        X_ndistinct_vals (int): number of distinct values of the multinomial r.v X.\n",
    "        Y_ndistinct_vals (int): number of distinct values of the multinomial r.v Y.\n",
    "         \n",
    "    Returns\n",
    "    ----------\n",
    "        float: Parametric Complexity of Multinomals \n",
    "        \n",
    "    \"\"\"\n",
    "    \n",
    "    assert len(X)==len(Y)\n",
    "    n = len(X)\n",
    "    X_ndistinct_vals = X_ndistinct_vals or len(np.unique(X))\n",
    "    Y_ndistinct_vals = Y_ndistinct_vals or len(np.unique(Y))\n",
    "    \n",
    "    \n",
    "    if model_type == \"confounder\":\n",
    "        return  log2(C_MN(n=n, K=X_ndistinct_vals * Y_ndistinct_vals))\n",
    "    \n",
    "    else:\n",
    "        return  log2(C_MN(n=n, K=X_ndistinct_vals)) + log2(C_MN(n=n, K=Y_ndistinct_vals))"
   ]
  },
  {
   "cell_type": "code",
   "execution_count": 188,
   "id": "8519a5b1",
   "metadata": {
    "scrolled": true
   },
   "outputs": [
    {
     "name": "stdout",
     "output_type": "stream",
     "text": [
      "CPU times: user 175 µs, sys: 0 ns, total: 175 µs\n",
      "Wall time: 179 µs\n"
     ]
    },
    {
     "data": {
      "text/plain": [
       "8.985119564280846e+29"
      ]
     },
     "execution_count": 188,
     "metadata": {},
     "output_type": "execute_result"
    }
   ],
   "source": [
    "%%time\n",
    "C_MN(n=10000, K=20)"
   ]
  },
  {
   "cell_type": "code",
   "execution_count": 192,
   "id": "83f29f1b",
   "metadata": {},
   "outputs": [
    {
     "name": "stdout",
     "output_type": "stream",
     "text": [
      "CPU times: user 5.03 ms, sys: 454 µs, total: 5.49 ms\n",
      "Wall time: 5.1 ms\n"
     ]
    },
    {
     "data": {
      "text/plain": [
       "2.1526114216272685e+58"
      ]
     },
     "execution_count": 192,
     "metadata": {},
     "output_type": "execute_result"
    }
   ],
   "source": [
    "%%time\n",
    "C_MN(n=10000000, K=20)"
   ]
  },
  {
   "cell_type": "code",
   "execution_count": 193,
   "id": "b5c49c5c",
   "metadata": {},
   "outputs": [
    {
     "data": {
      "text/plain": [
       "195.46717166437602"
      ]
     },
     "execution_count": 193,
     "metadata": {},
     "output_type": "execute_result"
    }
   ],
   "source": [
    "log2(6.941955710839545e+48)"
   ]
  },
  {
   "cell_type": "code",
   "execution_count": 53,
   "id": "03a75a8c",
   "metadata": {},
   "outputs": [
    {
     "name": "stdout",
     "output_type": "stream",
     "text": [
      "CPU times: user 1.48 ms, sys: 0 ns, total: 1.48 ms\n",
      "Wall time: 1.48 ms\n"
     ]
    },
    {
     "data": {
      "text/plain": [
       "6.941955712181016e+48"
      ]
     },
     "execution_count": 53,
     "metadata": {},
     "output_type": "execute_result"
    }
   ],
   "source": [
    "%%time\n",
    "compute_multinomal_with_recurrence(n=1000000, K=20)"
   ]
  },
  {
   "cell_type": "code",
   "execution_count": 55,
   "id": "0aeaab81",
   "metadata": {},
   "outputs": [
    {
     "data": {
      "text/plain": [
       "162.24789071578118"
      ]
     },
     "execution_count": 55,
     "metadata": {},
     "output_type": "execute_result"
    }
   ],
   "source": [
    "log2(6.941955712181016e+48)"
   ]
  },
  {
   "cell_type": "code",
   "execution_count": 221,
   "id": "7c12d311",
   "metadata": {},
   "outputs": [],
   "source": [
    "import numpy as np\n",
    "import argparse\n",
    "parser = argparse.ArgumentParser(description=\"BBCI single experiment\")\n",
    "parser.add_argument(\"--N\", type=int, default=1000, help=\"number of samples\")\n",
    "parser.add_argument(\"--m0\", type=int, default=4, help=\"number of distinct values of the multinomial r.v X\")\n",
    "parser.add_argument(\"--m1\", type=int, default=3, help=\"number of distinct values of the multinomial r.v Y\")\n",
    "args = parser.parse_args([])\n",
    "\n",
    "\n",
    "x0 = np.random.randint(args.m0, size=args.N)\n",
    "x1 = (x0 + np.random.randint(args.m1, size=args.N)) % args.m1"
   ]
  },
  {
   "cell_type": "code",
   "execution_count": 31,
   "id": "31748ce1",
   "metadata": {},
   "outputs": [
    {
     "data": {
      "text/plain": [
       "3"
      ]
     },
     "execution_count": 31,
     "metadata": {},
     "output_type": "execute_result"
    }
   ],
   "source": [
    "len(np.unique(x1))"
   ]
  },
  {
   "cell_type": "code",
   "execution_count": 179,
   "id": "904eb8df",
   "metadata": {},
   "outputs": [
    {
     "name": "stdout",
     "output_type": "stream",
     "text": [
      "CPU times: user 2.08 s, sys: 88.1 ms, total: 2.16 s\n",
      "Wall time: 2.1 s\n"
     ]
    },
    {
     "data": {
      "text/plain": [
       "55.64200710899405"
      ]
     },
     "execution_count": 179,
     "metadata": {},
     "output_type": "execute_result"
    }
   ],
   "source": [
    "%%time\n",
    "parametric_complexity(x0, x1, model_type=\"to\")"
   ]
  },
  {
   "cell_type": "code",
   "execution_count": 180,
   "id": "a429ed89",
   "metadata": {},
   "outputs": [
    {
     "data": {
      "text/plain": [
       "55.64200710899405"
      ]
     },
     "execution_count": 180,
     "metadata": {},
     "output_type": "execute_result"
    }
   ],
   "source": [
    "parametric_complexity(x0, x1, model_type=\"gets\")"
   ]
  },
  {
   "cell_type": "code",
   "execution_count": 35,
   "id": "dc552fb7",
   "metadata": {
    "scrolled": true
   },
   "outputs": [
    {
     "name": "stdout",
     "output_type": "stream",
     "text": [
      "CPU times: user 2min 47s, sys: 2.71 s, total: 2min 50s\n",
      "Wall time: 2min 48s\n"
     ]
    },
    {
     "data": {
      "text/plain": [
       "62.84586560707742"
      ]
     },
     "execution_count": 35,
     "metadata": {},
     "output_type": "execute_result"
    }
   ],
   "source": [
    "%%time\n",
    "parametric_complexity(x0, x1, model_type=\"confounder\")"
   ]
  },
  {
   "cell_type": "code",
   "execution_count": 37,
   "id": "fbf2dbc2",
   "metadata": {},
   "outputs": [
    {
     "data": {
      "text/plain": [
       "68.83765804795357"
      ]
     },
     "execution_count": 37,
     "metadata": {},
     "output_type": "execute_result"
    }
   ],
   "source": [
    "log2(5.274725986932661e+20)"
   ]
  },
  {
   "cell_type": "code",
   "execution_count": 48,
   "id": "88ffaf4e",
   "metadata": {},
   "outputs": [],
   "source": [
    "def compute_multinomal_with_recurrence(K: int, n:int):\n",
    "    total = 1\n",
    "    b = 1\n",
    "    d = 16\n",
    "    \n",
    "    bound = int(ceil(2 + sqrt( -2 * n * np.log(2 * 10**(-d) - 100 ** (-d)))))\n",
    "    \n",
    "    for k in range(1, bound + 1):\n",
    "        b = (n - k + 1) / n * b\n",
    "        total += b\n",
    "       \n",
    "    old_sum = 1\n",
    "    \n",
    "    for j in range(3, K + 1):\n",
    "        new_sum = total + (n * old_sum) / (j - 2)\n",
    "        old_sum = total\n",
    "        total = new_sum\n",
    "       \n",
    "    return total\n",
    "        \n",
    "    "
   ]
  },
  {
   "cell_type": "code",
   "execution_count": 207,
   "id": "b9e97739",
   "metadata": {},
   "outputs": [
    {
     "name": "stdout",
     "output_type": "stream",
     "text": [
      "CPU times: user 51 µs, sys: 249 µs, total: 300 µs\n",
      "Wall time: 608 µs\n"
     ]
    },
    {
     "data": {
      "text/plain": [
       "1157718227106.408"
      ]
     },
     "execution_count": 207,
     "metadata": {},
     "output_type": "execute_result"
    }
   ],
   "source": [
    "%%time\n",
    "compute_multinomal_with_recurrence(n=100, K=20)"
   ]
  },
  {
   "cell_type": "code",
   "execution_count": null,
   "id": "d856ae04",
   "metadata": {},
   "outputs": [],
   "source": []
  },
  {
   "cell_type": "code",
   "execution_count": null,
   "id": "97e867eb",
   "metadata": {},
   "outputs": [],
   "source": []
  },
  {
   "cell_type": "code",
   "execution_count": null,
   "id": "95b19da3",
   "metadata": {},
   "outputs": [],
   "source": []
  },
  {
   "cell_type": "code",
   "execution_count": null,
   "id": "cd0fcb0c",
   "metadata": {},
   "outputs": [],
   "source": []
  },
  {
   "cell_type": "code",
   "execution_count": null,
   "id": "b91ee522",
   "metadata": {},
   "outputs": [],
   "source": []
  },
  {
   "cell_type": "code",
   "execution_count": null,
   "id": "e6158c57",
   "metadata": {},
   "outputs": [],
   "source": []
  },
  {
   "cell_type": "code",
   "execution_count": null,
   "id": "454f56d2",
   "metadata": {},
   "outputs": [],
   "source": []
  },
  {
   "cell_type": "code",
   "execution_count": null,
   "id": "d1d58a51",
   "metadata": {},
   "outputs": [],
   "source": []
  },
  {
   "cell_type": "code",
   "execution_count": null,
   "id": "cbec5bf9",
   "metadata": {},
   "outputs": [],
   "source": []
  },
  {
   "cell_type": "code",
   "execution_count": 59,
   "id": "2438e52e",
   "metadata": {},
   "outputs": [],
   "source": [
    "#!/usr/bin/env python3\n",
    "# -*- coding: utf-8 -*-\n",
    "# ref: https://github.molgen.mpg.de/EDA/cisc/blob/master/formatter.py\n",
    "\"\"\"This module provides common methods for manipulating data\"\"\"\n",
    "from collections import defaultdict\n",
    "\n",
    "\n",
    "def stratify(X, Y):\n",
    "    \"\"\"Stratifies Y based on unique values of X.\n",
    "    Args:\n",
    "        X (sequence): sequence of discrete outcomes\n",
    "        Y (sequence): sequence of discrete outcomes\n",
    "    Returns:\n",
    "        (dict): list of Y-values for a X-value\n",
    "    \"\"\"\n",
    "    Y_grps = defaultdict(list)\n",
    "    for i, x in enumerate(X):\n",
    "        Y_grps[x].append(Y[i])\n",
    "    return Y_grps\n",
    "\n",
    "\n",
    "def to_nested(X):\n",
    "    \"\"\"Converts the given sequence to a nested sequence.\n",
    "    Args:\n",
    "        X (sequence): sequence of discrete outcomes\n",
    "    Returns:\n",
    "        (nested sequence): nested sequence of X\n",
    "    \"\"\"\n",
    "    return [[x] for x in X]"
   ]
  },
  {
   "cell_type": "code",
   "execution_count": 56,
   "id": "b118b19b",
   "metadata": {},
   "outputs": [],
   "source": [
    "def map_to_majority(X, Y):\n",
    "    \"\"\"Creates a function that maps y to the frequently co-occuring x.\n",
    "    Args:\n",
    "        X (sequence): sequence of discrete outcomes\n",
    "        Y (sequence): sequence of discrete outcomes\n",
    "    Returns:\n",
    "        (dict): map from Y-values to frequently co-occuring X-values\n",
    "    \"\"\"\n",
    "    f = dict()\n",
    "    Y_grps = stratify(X, Y)\n",
    "    for x, Ys in Y_grps.items():\n",
    "        frequent_y, _ = Counter(Ys).most_common(1)[0]\n",
    "        f[x] = frequent_y\n",
    "    return f"
   ]
  },
  {
   "cell_type": "code",
   "execution_count": 242,
   "id": "9508b733",
   "metadata": {},
   "outputs": [],
   "source": [
    "X = np.random.choice([0, 1, 2, 3], 1000)\n",
    "Y = np.random.choice([4, 5, 6], 1000)\n",
    "\n",
    "f = map_to_majority(X, Y)"
   ]
  },
  {
   "cell_type": "code",
   "execution_count": 243,
   "id": "86ca8958",
   "metadata": {},
   "outputs": [
    {
     "data": {
      "text/plain": [
       "{0: 5, 3: 6, 2: 6, 1: 5}"
      ]
     },
     "execution_count": 243,
     "metadata": {},
     "output_type": "execute_result"
    }
   ],
   "source": [
    "f"
   ]
  },
  {
   "cell_type": "code",
   "execution_count": 246,
   "id": "a17167bf",
   "metadata": {},
   "outputs": [],
   "source": [
    "pair_cnt = defaultdict(lambda: defaultdict(int))\n",
    "for x, y in zip(X, Y):\n",
    "    pair_cnt[x][y] += 1"
   ]
  },
  {
   "cell_type": "code",
   "execution_count": 247,
   "id": "69baa9f5",
   "metadata": {},
   "outputs": [
    {
     "data": {
      "text/plain": [
       "defaultdict(<function __main__.<lambda>()>,\n",
       "            {0: defaultdict(int, {6: 69, 4: 69, 5: 80}),\n",
       "             3: defaultdict(int, {4: 102, 5: 83, 6: 106}),\n",
       "             2: defaultdict(int, {5: 86, 6: 90, 4: 82}),\n",
       "             1: defaultdict(int, {5: 87, 4: 72, 6: 74})})"
      ]
     },
     "execution_count": 247,
     "metadata": {},
     "output_type": "execute_result"
    }
   ],
   "source": [
    "pair_cnt"
   ]
  },
  {
   "cell_type": "code",
   "execution_count": 77,
   "id": "b8d1e677",
   "metadata": {},
   "outputs": [
    {
     "data": {
      "text/plain": [
       "{-1: 1, -2: -1, 2: 4}"
      ]
     },
     "execution_count": 77,
     "metadata": {},
     "output_type": "execute_result"
    }
   ],
   "source": [
    "f_inv = dict()\n",
    "for k, v in f.items():\n",
    "    f_inv[v] = k\n",
    "f_inv"
   ]
  },
  {
   "cell_type": "code",
   "execution_count": 75,
   "id": "fddfdf70",
   "metadata": {},
   "outputs": [
    {
     "name": "stdout",
     "output_type": "stream",
     "text": [
      "(2, 244)\n",
      "(1, 260)\n",
      "(-1, 253)\n",
      "(4, 243)\n"
     ]
    }
   ],
   "source": [
    "freqs = Counter(X)\n",
    "for freq in freqs.items():\n",
    "    print(freq)"
   ]
  },
  {
   "cell_type": "code",
   "execution_count": 329,
   "id": "547d7bb3",
   "metadata": {},
   "outputs": [
    {
     "ename": "SyntaxError",
     "evalue": "invalid syntax (2264971159.py, line 1)",
     "output_type": "error",
     "traceback": [
      "\u001b[0;36m  File \u001b[0;32m\"/var/folders/sm/hx45xbp11v75qmr4xxgxlch40000gn/T/ipykernel_29701/2264971159.py\"\u001b[0;36m, line \u001b[0;32m1\u001b[0m\n\u001b[0;31m    def update_regression(C, , ):\u001b[0m\n\u001b[0m                             ^\u001b[0m\n\u001b[0;31mSyntaxError\u001b[0m\u001b[0;31m:\u001b[0m invalid syntax\n"
     ]
    }
   ],
   "source": [
    "def update_regression(C, E, f):\n",
    "    \"\"\"\n",
    "    Args\n",
    "    -------\n",
    "        C (sequence): sequence of discrete outcomes\n",
    "        E (sequence): sequence of discrete outcomes\n",
    "        f (dict): map from Y-values to frequently co-occuring X-values\n",
    "        \n",
    "    \"\"\"\n",
    "    "
   ]
  },
  {
   "cell_type": "code",
   "execution_count": 322,
   "id": "14494250",
   "metadata": {},
   "outputs": [],
   "source": [
    "def cause_effect_ml(C_freqs, E_freqs, n):\n",
    "    \"\"\"Compute maximum log likelihood for cause & effect pair.\n",
    "    \n",
    "    Args\n",
    "    -------\n",
    "        C_freqs (Counter): Counter of discrete outcomes (Cause)\n",
    "        E_freqs (Counter): Counter of discrete outcomes (Effect)\n",
    "        n (int): sample size \n",
    "    \n",
    "    Returns\n",
    "    -------\n",
    "        (float): maximum log likelihood \n",
    "    \"\"\"\n",
    "    pass\n",
    "\n",
    "def maximum_log_likelihood(X, Y, model_type, f=None):\n",
    "    \"\"\"Compute maximum log-likelihood of the model given observations z^n.\n",
    "    \n",
    "    Args\n",
    "    ------\n",
    "        X (sequence): sequence of discrete outcomes\n",
    "        Y (sequence): sequence of discrete outcomes\n",
    "        model_type (str): one of [\"to\", \"gets\", \"indep\", \"confounder\"]\n",
    "        f (dict): map from Y-values to frequently co-occuring X-values\n",
    "    Returns\n",
    "    -----------\n",
    "        (float): (negative) maximum log likelihood \n",
    "    \"\"\"\n",
    "    supp_X = list(set(X))\n",
    "    supp_Y = list(set(Y))\n",
    "    mod_X = len(set(X))\n",
    "    mod_Y = len(set(Y))\n",
    "    X_freqs = Counter(X)\n",
    "    Y_freqs = Counter(Y)\n",
    "    n = len(X)\n",
    "    loglikelihood = 0.0\n",
    "    \n",
    "    pair_cnt = defaultdict(lambda: defaultdict(int))\n",
    "    for x, y in zip(X, Y):\n",
    "        pair_cnt[x][y] += 1\n",
    "    \n",
    "    # 今のところfは，とりあえずこれで実行する\n",
    "    if model_type == \"to\":\n",
    "        f = map_to_majority(X, Y)\n",
    "    elif model_type == \"gets\":\n",
    "        g = map_to_majority(Y, X)\n",
    "            \n",
    "    if model_type == \"to\":\n",
    "        for freq in X_freqs.values():\n",
    "            loglikelihood += freq * (log2(n) - log2(freq))            \n",
    "        \n",
    "        for e_y in supp_Y:\n",
    "            freq = 0\n",
    "            for y in supp_Y:\n",
    "                for x in supp_X:\n",
    "                    if (y - f[x]) % mod_Y == e_y:\n",
    "                        freq += pair_cnt[x][y]\n",
    "            loglikelihood += freq * (log2(n) - log2(freq))\n",
    "                \n",
    "#         for y in supp_Y:\n",
    "#             freq = 0\n",
    "#             for x in supp_X:\n",
    "#                 if f[x] == (y - x) % mod_Y:\n",
    "#                     freq += pair_cnt[x][y]\n",
    "#                 loglikelihood += freq * (log2(n) - log2(freq))\n",
    "            \n",
    "    elif model_type == \"gets\":\n",
    "        for freq in Y_freqs.values():\n",
    "            loglikelihood += freq * (log2(n) - log2(freq))            \n",
    "        \n",
    "        for e_x in supp_X:\n",
    "            freq = 0\n",
    "            for x in supp_X:\n",
    "                for y in supp_Y:\n",
    "                    if (x - g[y]) % mod_X == e_x:\n",
    "                        freq += pair_cnt[x][y]\n",
    "            loglikelihood += freq * (log2(n) - log2(freq))\n",
    "#         for x in supp_X:\n",
    "#             freq = 0\n",
    "#             for y in supp_Y:\n",
    "#                 if f[y] == (x - y) % mod_X:\n",
    "#                     freq += pair_cnt[x][y]\n",
    "#                 loglikelihood += freq * (log2(n) - log2(freq))\n",
    "    \n",
    "    elif model_type == \"indep\":\n",
    "        for freq in X_freqs.values():\n",
    "            loglikelihood += freq * (log2(n) - log2(freq))  \n",
    "        for freq in Y_freqs.values():\n",
    "            loglikelihood += freq * (log2(n) - log2(freq)) \n",
    "    \n",
    "    elif model_type == \"confounder\":\n",
    "        for x in supp_X:\n",
    "            for y in supp_Y:\n",
    "                loglikelihood += pair_cnt[x][y] * (log2(n) - log2(pair_cnt[x][y]))\n",
    "    \n",
    "    return loglikelihood\n",
    "        "
   ]
  },
  {
   "cell_type": "code",
   "execution_count": 323,
   "id": "0c2da00e",
   "metadata": {},
   "outputs": [
    {
     "data": {
      "text/plain": [
       "defaultdict(<function __main__.<lambda>()>,\n",
       "            {0: defaultdict(int, {1: 800, 2: 814, 0: 856}),\n",
       "             3: defaultdict(int, {2: 822, 1: 890, 0: 846}),\n",
       "             2: defaultdict(int, {1: 831, 0: 826, 2: 811}),\n",
       "             1: defaultdict(int, {2: 833, 1: 851, 0: 820})})"
      ]
     },
     "execution_count": 323,
     "metadata": {},
     "output_type": "execute_result"
    }
   ],
   "source": [
    "\n",
    "pair_cnt = defaultdict(lambda: defaultdict(int))\n",
    "for x, y in zip(x0, x1):\n",
    "    pair_cnt[x][y] += 1\n",
    "pair_cnt"
   ]
  },
  {
   "cell_type": "code",
   "execution_count": 324,
   "id": "9768d424",
   "metadata": {},
   "outputs": [
    {
     "data": {
      "text/plain": [
       "(Counter({0: 2470, 3: 2558, 2: 2468, 1: 2504}), 10000)"
      ]
     },
     "execution_count": 324,
     "metadata": {},
     "output_type": "execute_result"
    }
   ],
   "source": [
    "X_freqs = Counter(x0)\n",
    "X_freqs, sum(X_freqs.values())"
   ]
  },
  {
   "cell_type": "code",
   "execution_count": 325,
   "id": "c2ab10eb",
   "metadata": {},
   "outputs": [
    {
     "data": {
      "text/plain": [
       "35845.02851718127"
      ]
     },
     "execution_count": 325,
     "metadata": {},
     "output_type": "execute_result"
    }
   ],
   "source": [
    "maximum_log_likelihood(x0, x1, model_type=\"to\")"
   ]
  },
  {
   "cell_type": "code",
   "execution_count": 326,
   "id": "554b8f0c",
   "metadata": {
    "scrolled": true
   },
   "outputs": [
    {
     "data": {
      "text/plain": [
       "35845.445024273075"
      ]
     },
     "execution_count": 326,
     "metadata": {},
     "output_type": "execute_result"
    }
   ],
   "source": [
    "maximum_log_likelihood(x0, x1, model_type=\"gets\")"
   ]
  },
  {
   "cell_type": "code",
   "execution_count": 327,
   "id": "086a5705",
   "metadata": {},
   "outputs": [
    {
     "data": {
      "text/plain": [
       "35847.11205869069"
      ]
     },
     "execution_count": 327,
     "metadata": {},
     "output_type": "execute_result"
    }
   ],
   "source": [
    "maximum_log_likelihood(x0, x1, model_type=\"indep\")"
   ]
  },
  {
   "cell_type": "code",
   "execution_count": 328,
   "id": "5be2e2f4",
   "metadata": {},
   "outputs": [
    {
     "data": {
      "text/plain": [
       "35844.0046083294"
      ]
     },
     "execution_count": 328,
     "metadata": {},
     "output_type": "execute_result"
    }
   ],
   "source": [
    "maximum_log_likelihood(x0, x1, model_type=\"confounder\")"
   ]
  },
  {
   "cell_type": "code",
   "execution_count": 211,
   "id": "5cce1a6c",
   "metadata": {
    "scrolled": true
   },
   "outputs": [
    {
     "data": {
      "text/plain": [
       "514437.27156313084"
      ]
     },
     "execution_count": 211,
     "metadata": {},
     "output_type": "execute_result"
    }
   ],
   "source": [
    "maximum_log_likelihood(X=np.random.randint(5, size=100000),\n",
    "                          Y=np.random.randint(4, size=10000), model_type=\"to\")"
   ]
  },
  {
   "cell_type": "code",
   "execution_count": 218,
   "id": "fc4ff137",
   "metadata": {},
   "outputs": [],
   "source": [
    "def sc(X, Y, model_type: str, X_ndistinct_vals=None, Y_ndistinct_vals=None):\n",
    "    \"\"\"Computes the stochastic complexity of z^n(two discrete sequences).\n",
    "    \n",
    "    Args\n",
    "    ------        \n",
    "        X (sequence): sequence of discrete outcomes\n",
    "        Y (sequence): sequence of discrete outcomes\n",
    "        model_type (str): [\"to\", \"gets\", \"indep\", \"confounder\"]\n",
    "        X_ndistinct_vals (int): number of distinct values of the multinomial r.v X.\n",
    "        Y_ndistinct_vals (int): number of distinct values of the multinomial r.v Y.\n",
    "         \n",
    "    Returns\n",
    "    ----------\n",
    "        float: Stochastic Complexity of a given dataset\n",
    "    \"\"\"\n",
    "    assert len(X)==len(Y)\n",
    "    X_ndistinct_vals = X_ndistinct_vals or len(set(X))\n",
    "    Y_ndistinct_vals = Y_ndistinct_vals or len(set(Y))\n",
    "    \n",
    "    neg_log_likelihood =  maximum_log_likelihood(X, Y, model_type)\n",
    "    parametric_comp = parametric_complexity(X, Y, model_type, X_ndistinct_vals, Y_ndistinct_vals)\n",
    "    \n",
    "    stochastic_complexity = neg_log_likelihood + parametric_comp\n",
    "    \n",
    "    # add function code length\n",
    "    if model_type == \"to\":\n",
    "        stochastic_complexity += X_ndistinct_vals * log2(Y_ndistinct_vals)\n",
    "    elif model_type == \"gets\":\n",
    "        stochastic_complexity += Y_ndistinct_vals * log2(X_ndistinct_vals)\n",
    "    \n",
    "    return stochastic_complexity\n",
    "    "
   ]
  },
  {
   "cell_type": "code",
   "execution_count": 297,
   "id": "a3a1bef2",
   "metadata": {},
   "outputs": [],
   "source": [
    "MODEL_CANDIDATES = [\"to\", \"gets\", \"indep\", \"confounder\"]\n",
    "\n",
    "def ndm(X, Y, ):\n",
    "    \"\"\"NML Discrete Model\n",
    "    \"\"\"\n",
    "    \n",
    "    results = []\n",
    "    \n",
    "    for model_type in MODEL_CANDIDATES:\n",
    "        stochastic_complexity = sc(X, Y, model_type)\n",
    "        results.append((stochastic_complexity, model_type))\n",
    "    \n",
    "    return results\n",
    "\n",
    "        "
   ]
  },
  {
   "cell_type": "code",
   "execution_count": 317,
   "id": "0c5e05e3",
   "metadata": {
    "scrolled": false
   },
   "outputs": [
    {
     "data": {
      "text/plain": [
       "[(35883.9621303126, 'to'),\n",
       " (35884.038787401514, 'gets'),\n",
       " (35879.70582181913, 'indep'),\n",
       " (35905.69288080137, 'confounder')]"
      ]
     },
     "execution_count": 317,
     "metadata": {},
     "output_type": "execute_result"
    }
   ],
   "source": [
    "ndm(x0, x1)"
   ]
  },
  {
   "cell_type": "code",
   "execution_count": 301,
   "id": "b2ca61dc",
   "metadata": {},
   "outputs": [],
   "source": [
    "c = np.random.randint(args.m0, size=args.N)\n",
    "x0 = (c + np.random.randint(args.m0, size=args.N)) % args.m0\n",
    "x1 = (c + np.random.randint(args.m1, size=args.N)) % args.m1"
   ]
  },
  {
   "cell_type": "code",
   "execution_count": 306,
   "id": "56b8f450",
   "metadata": {},
   "outputs": [],
   "source": [
    "x0 = np.random.randint(args.m0, size=args.N)\n",
    "x1 = np.random.randint(args.m1, size=args.N)"
   ]
  },
  {
   "cell_type": "code",
   "execution_count": 316,
   "id": "3ff4c7ab",
   "metadata": {},
   "outputs": [],
   "source": [
    "x0 = np.random.randint(args.m0, size=args.N)\n",
    "x1 = (x0 + np.random.randint(args.m1, size=args.N)) % args.m1"
   ]
  },
  {
   "cell_type": "code",
   "execution_count": 305,
   "id": "9ebf0edd",
   "metadata": {},
   "outputs": [],
   "source": [
    "args.N=10000"
   ]
  },
  {
   "cell_type": "code",
   "execution_count": null,
   "id": "d2861f12",
   "metadata": {},
   "outputs": [],
   "source": []
  }
 ],
 "metadata": {
  "kernelspec": {
   "display_name": "Python 3 (ipykernel)",
   "language": "python",
   "name": "python3"
  },
  "language_info": {
   "codemirror_mode": {
    "name": "ipython",
    "version": 3
   },
   "file_extension": ".py",
   "mimetype": "text/x-python",
   "name": "python",
   "nbconvert_exporter": "python",
   "pygments_lexer": "ipython3",
   "version": "3.8.2"
  }
 },
 "nbformat": 4,
 "nbformat_minor": 5
}
